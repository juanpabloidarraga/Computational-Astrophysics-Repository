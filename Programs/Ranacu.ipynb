{
 "cells": [
  {
   "cell_type": "markdown",
   "metadata": {},
   "source": [
    "Generador de numeros aleatorios"
   ]
  },
  {
   "cell_type": "code",
   "execution_count": 4,
   "metadata": {},
   "outputs": [
    {
     "data": {
      "text/plain": [
       "[0.5109430031991355,\n",
       " 0.9443751556202249,\n",
       " 0.11862194774805827,\n",
       " 0.6047718158949187,\n",
       " 0.9809307578853864,\n",
       " 0.9251820001008315,\n",
       " 0.04173534947796944,\n",
       " 0.3515838281645558,\n",
       " 0.06382819284936245,\n",
       " 0.378197098684848]"
      ]
     },
     "execution_count": 4,
     "metadata": {},
     "output_type": "execute_result"
    }
   ],
   "source": [
    "def Ranecu(Iseed1 , Iseed2):\n",
    "    \n",
    "    Uscale = 1.0/2.147483563e9\n",
    "\n",
    "    I1 = Iseed1//53668\n",
    "    Iseed1 = 40014*(Iseed1%53668) - I1*12211\n",
    "    if Iseed1 < 0:\n",
    "        Iseed1 = Iseed1+2147483563\n",
    "    I2 = Iseed2//52774\n",
    "    Iseed2 = 40692*(Iseed2%52774) - I2*3791\n",
    "\n",
    "    if Iseed2 < 0:\n",
    "        Iseed2 = Iseed2+2147483399\n",
    "    Iz = Iseed1 - Iseed2\n",
    "    if Iz < 1:\n",
    "        Iz = Iz +2147483562\n",
    "\n",
    "    Ran = Iz*Uscale\n",
    "    return Ran, Iseed1, Iseed2\n",
    "\n",
    "\n",
    "def generateRNumberRanecu(Iseed1, Iseed2, N):\n",
    "    random =[]\n",
    "    for i in range(N):\n",
    "        num, Iseed1, Iseed2= Ranecu(Iseed1, Iseed2)\n",
    "        random.append(num)\n",
    "    return random\n",
    "\n",
    "Iseed1 = 348713\n",
    "Iseed2 = 738131\n",
    "N=10\n",
    "Numbers = generateRNumberRanecu(Iseed1,Iseed2, N)\n",
    "Numbers\n"
   ]
  }
 ],
 "metadata": {
  "kernelspec": {
   "display_name": "Python 3",
   "language": "python",
   "name": "python3"
  },
  "language_info": {
   "codemirror_mode": {
    "name": "ipython",
    "version": 3
   },
   "file_extension": ".py",
   "mimetype": "text/x-python",
   "name": "python",
   "nbconvert_exporter": "python",
   "pygments_lexer": "ipython3",
   "version": "3.7.7"
  },
  "orig_nbformat": 4
 },
 "nbformat": 4,
 "nbformat_minor": 2
}
